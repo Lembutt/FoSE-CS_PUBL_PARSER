{
 "cells": [
  {
   "cell_type": "code",
   "execution_count": 12,
   "id": "3f22d1e2-c958-43a3-95f0-00504ebdf9b5",
   "metadata": {},
   "outputs": [],
   "source": [
    "import requests\n",
    "\n",
    "publ_webpage = requests.get('https://scs.ifmo.ru/ru/listpublication/show_all_publications.htm') # Получаем страницу со списком публикаций"
   ]
  },
  {
   "cell_type": "code",
   "execution_count": 25,
   "id": "de5749a7-70aa-4c1e-9d75-2dbde86117db",
   "metadata": {},
   "outputs": [],
   "source": [
    "from bs4 import BeautifulSoup as BS\n",
    "\n",
    "bs = BS(publ_webpage.text, 'html')\n",
    "\n",
    "publ_year_list = bs.main.find(\"div\", {\"id\": \"list\", \"class\": \"list\"}).findAll(\"div\", {\"class\": \"group\"}) # Получаем список публикаций по годам\n",
    "years = len(publ_year_list)"
   ]
  },
  {
   "cell_type": "code",
   "execution_count": 27,
   "id": "2f061f06-ae83-4b88-9ae8-4466915c3ecc",
   "metadata": {},
   "outputs": [
    {
     "data": {
      "text/html": [
       "<div>\n",
       "<style scoped>\n",
       "    .dataframe tbody tr th:only-of-type {\n",
       "        vertical-align: middle;\n",
       "    }\n",
       "\n",
       "    .dataframe tbody tr th {\n",
       "        vertical-align: top;\n",
       "    }\n",
       "\n",
       "    .dataframe thead th {\n",
       "        text-align: right;\n",
       "    }\n",
       "</style>\n",
       "<table border=\"1\" class=\"dataframe\">\n",
       "  <thead>\n",
       "    <tr style=\"text-align: right;\">\n",
       "      <th></th>\n",
       "      <th>a</th>\n",
       "      <th>b</th>\n",
       "    </tr>\n",
       "  </thead>\n",
       "  <tbody>\n",
       "    <tr>\n",
       "      <th>a</th>\n",
       "      <td>{'a': 23}</td>\n",
       "      <td>hello!</td>\n",
       "    </tr>\n",
       "    <tr>\n",
       "      <th>b</th>\n",
       "      <td>2</td>\n",
       "      <td>NaN</td>\n",
       "    </tr>\n",
       "  </tbody>\n",
       "</table>\n",
       "</div>"
      ],
      "text/plain": [
       "           a       b\n",
       "a  {'a': 23}  hello!\n",
       "b          2     NaN"
      ]
     },
     "execution_count": 27,
     "metadata": {},
     "output_type": "execute_result"
    }
   ],
   "source": [
    "dict_of_publications: dict = {}\n",
    "for i in range(years):\n",
    "    dict_of_publications[publ_year_list[i]] = {\"year\": publ_year_list[]}"
   ]
  },
  {
   "cell_type": "code",
   "execution_count": null,
   "id": "0b8cedf8-59c3-4c62-91c8-c8d0fbaf6d70",
   "metadata": {},
   "outputs": [],
   "source": []
  }
 ],
 "metadata": {
  "kernelspec": {
   "display_name": "Python 3",
   "language": "python",
   "name": "python3"
  },
  "language_info": {
   "codemirror_mode": {
    "name": "ipython",
    "version": 3
   },
   "file_extension": ".py",
   "mimetype": "text/x-python",
   "name": "python",
   "nbconvert_exporter": "python",
   "pygments_lexer": "ipython3",
   "version": "3.9.5"
  }
 },
 "nbformat": 4,
 "nbformat_minor": 5
}
